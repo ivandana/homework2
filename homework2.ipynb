{
 "metadata": {
  "language_info": {
   "codemirror_mode": {
    "name": "ipython",
    "version": 3
   },
   "file_extension": ".py",
   "mimetype": "text/x-python",
   "name": "python",
   "nbconvert_exporter": "python",
   "pygments_lexer": "ipython3",
   "version": "3.8.2-final"
  },
  "orig_nbformat": 2,
  "kernelspec": {
   "name": "python_defaultSpec_1600121367511",
   "display_name": "Python 3.8.2 64-bit"
  }
 },
 "nbformat": 4,
 "nbformat_minor": 2,
 "cells": [
  {
   "cell_type": "markdown",
   "metadata": {},
   "source": [
    "# Solutions\n",
    "## Soultion 1"
   ]
  },
  {
   "cell_type": "code",
   "execution_count": 30,
   "metadata": {
    "tags": []
   },
   "outputs": [
    {
     "output_type": "stream",
     "name": "stdout",
     "text": "\n              Number              Square                cube\n                   0                   0                   0\n                   1                   1                   1\n                   2                   4                   8\n                   3                   9                  27\n                   4                  16                  64\n                   5                  25                 125\n"
    }
   ],
   "source": [
    "print()\n",
    "num_str=\"Number\"\n",
    "sqr_str=\"Square\"\n",
    "cube_str=\"cube\"\n",
    "print(f'{num_str:>20}{sqr_str:>20}{cube_str:>20}')\n",
    "for i in range(0,6):\n",
    "\tprint(f'{i:>20}{i ** 2:>20}{i ** 3:>20}')"
   ]
  },
  {
   "cell_type": "markdown",
   "metadata": {},
   "source": [
    "## Soultion 2"
   ]
  },
  {
   "cell_type": "code",
   "execution_count": 69,
   "metadata": {
    "tags": []
   },
   "outputs": [
    {
     "output_type": "stream",
     "name": "stdout",
     "text": "The Fahrenheit temperature for -40 celsius is -40.0\nThe Fahrenheit temperature for 0 celsius is 32.0\nThe Fahrenheit temperature for 40 celsius is 104.0\nThe Fahrenheit temperature for 100 celsius is 212.0\n"
    }
   ],
   "source": [
    "# Celsius value = -40, 0, 40, 100\n",
    "# F = 9/5 * C + 32\n",
    "celsius=-40, 0, 40, 100 \n",
    "for i in celsius:\n",
    "    print (f'The Fahrenheit temperature for {i} celsius is {9/5 * i + 32}')\n"
   ]
  },
  {
   "cell_type": "markdown",
   "metadata": {},
   "source": [
    "## Solution 3"
   ]
  },
  {
   "cell_type": "code",
   "execution_count": 55,
   "metadata": {
    "tags": []
   },
   "outputs": [
    {
     "output_type": "stream",
     "name": "stdout",
     "text": "The sum is 7,000\nThe average is 2,333.33\n"
    }
   ],
   "source": [
    "num_1 = int(input('Enter the first number'))\n",
    "num_2 = int(input('Enter the second number'))\n",
    "num_3 = int(input('Enter the third number'))\n",
    "\n",
    "sum = num_1 + num_2 + num_3\n",
    "average = (num_1 + num_2 + num_3)/3\n",
    "print(f'The sum is{sum: ,d}')\n",
    "print(f'The average is{average: ,.2f}')"
   ]
  },
  {
   "cell_type": "code",
   "execution_count": null,
   "metadata": {},
   "outputs": [],
   "source": []
  }
 ]
}